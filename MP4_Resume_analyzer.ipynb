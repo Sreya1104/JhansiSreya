{
  "cells": [
    {
      "cell_type": "markdown",
      "metadata": {
        "id": "view-in-github",
        "colab_type": "text"
      },
      "source": [
        "<a href=\"https://colab.research.google.com/github/Sreya1104/JhansiSreya/blob/main/MP4_Resume_analyzer.ipynb\" target=\"_parent\"><img src=\"https://colab.research.google.com/assets/colab-badge.svg\" alt=\"Open In Colab\"/></a>"
      ]
    },
    {
      "cell_type": "code",
      "execution_count": null,
      "metadata": {
        "id": "KAzN5Cm5rj55"
      },
      "outputs": [],
      "source": [
        "from pyresparser import ResumeParser\n",
        "import os\n",
        "from docx import Document"
      ]
    },
    {
      "cell_type": "code",
      "execution_count": null,
      "metadata": {
        "colab": {
          "base_uri": "https://localhost:8080/"
        },
        "id": "9qwfnp5NZ2xF",
        "outputId": "17a981cd-e7b3-413a-83f3-201ca05dcf9e"
      },
      "outputs": [
        {
          "output_type": "stream",
          "name": "stdout",
          "text": [
            "Collecting python-docx\n",
            "  Downloading python-docx-0.8.11.tar.gz (5.6 MB)\n",
            "\u001b[K     |████████████████████████████████| 5.6 MB 15.3 MB/s \n",
            "\u001b[?25hRequirement already satisfied: lxml>=2.3.2 in /usr/local/lib/python3.7/dist-packages (from python-docx) (4.2.6)\n",
            "Building wheels for collected packages: python-docx\n",
            "  Building wheel for python-docx (setup.py) ... \u001b[?25l\u001b[?25hdone\n",
            "  Created wheel for python-docx: filename=python_docx-0.8.11-py3-none-any.whl size=184507 sha256=2784865890fcd6654cba29810e4ccd2e178d8fe571dcc99b2a1b39f0cbeb7cf3\n",
            "  Stored in directory: /root/.cache/pip/wheels/f6/6f/b9/d798122a8b55b74ad30b5f52b01482169b445fbb84a11797a6\n",
            "Successfully built python-docx\n",
            "Installing collected packages: python-docx\n",
            "Successfully installed python-docx-0.8.11\n"
          ]
        }
      ],
      "source": [
        "!pip install python-docx"
      ]
    },
    {
      "cell_type": "code",
      "execution_count": null,
      "metadata": {
        "colab": {
          "base_uri": "https://localhost:8080/"
        },
        "id": "kUmc-PHeZ5o_",
        "outputId": "2bce68dc-86b6-400b-cf73-473ebcc242a5"
      },
      "outputs": [
        {
          "output_type": "stream",
          "name": "stdout",
          "text": [
            "Collecting docx\n",
            "  Downloading docx-0.2.4.tar.gz (54 kB)\n",
            "\u001b[?25l\r\u001b[K     |██████                          | 10 kB 16.8 MB/s eta 0:00:01\r\u001b[K     |████████████                    | 20 kB 20.3 MB/s eta 0:00:01\r\u001b[K     |██████████████████              | 30 kB 24.3 MB/s eta 0:00:01\r\u001b[K     |███████████████████████▉        | 40 kB 27.9 MB/s eta 0:00:01\r\u001b[K     |█████████████████████████████▉  | 51 kB 30.3 MB/s eta 0:00:01\r\u001b[K     |████████████████████████████████| 54 kB 2.6 MB/s \n",
            "\u001b[?25hRequirement already satisfied: lxml in /usr/local/lib/python3.7/dist-packages (from docx) (4.2.6)\n",
            "Requirement already satisfied: Pillow>=2.0 in /usr/local/lib/python3.7/dist-packages (from docx) (7.1.2)\n",
            "Building wheels for collected packages: docx\n",
            "  Building wheel for docx (setup.py) ... \u001b[?25l\u001b[?25hdone\n",
            "  Created wheel for docx: filename=docx-0.2.4-py3-none-any.whl size=53924 sha256=eac6b313a508916c99ad2e131520de3d88aa393befbb47a22a9b60f093cea6d2\n",
            "  Stored in directory: /root/.cache/pip/wheels/dc/ac/45/846e21706415c92fc6e0964e343be1eb31cfc63e149dee5fbe\n",
            "Successfully built docx\n",
            "Installing collected packages: docx\n",
            "Successfully installed docx-0.2.4\n"
          ]
        }
      ],
      "source": [
        "!pip install docx"
      ]
    },
    {
      "cell_type": "code",
      "execution_count": null,
      "metadata": {
        "colab": {
          "base_uri": "https://localhost:8080/"
        },
        "id": "sUTMnjxtZ8FG",
        "outputId": "6da45a5f-9faa-49f7-d94b-285801f8db3f"
      },
      "outputs": [
        {
          "output_type": "stream",
          "name": "stdout",
          "text": [
            "Collecting folium==0.2.1\n",
            "  Downloading folium-0.2.1.tar.gz (69 kB)\n",
            "\u001b[?25l\r\u001b[K     |████▊                           | 10 kB 14.1 MB/s eta 0:00:01\r\u001b[K     |█████████▍                      | 20 kB 19.1 MB/s eta 0:00:01\r\u001b[K     |██████████████                  | 30 kB 21.7 MB/s eta 0:00:01\r\u001b[K     |██████████████████▊             | 40 kB 20.7 MB/s eta 0:00:01\r\u001b[K     |███████████████████████▍        | 51 kB 14.9 MB/s eta 0:00:01\r\u001b[K     |████████████████████████████    | 61 kB 16.7 MB/s eta 0:00:01\r\u001b[K     |████████████████████████████████| 69 kB 3.0 MB/s \n",
            "\u001b[?25hRequirement already satisfied: Jinja2 in /usr/local/lib/python3.7/dist-packages (from folium==0.2.1) (2.11.3)\n",
            "Requirement already satisfied: MarkupSafe>=0.23 in /usr/local/lib/python3.7/dist-packages (from Jinja2->folium==0.2.1) (2.0.1)\n",
            "Building wheels for collected packages: folium\n",
            "  Building wheel for folium (setup.py) ... \u001b[?25l\u001b[?25hdone\n",
            "  Created wheel for folium: filename=folium-0.2.1-py3-none-any.whl size=79808 sha256=3a9b836dba2b3d64c40294f79cc822ecda5651f0cb6c6442af0d21b63e4a7a39\n",
            "  Stored in directory: /root/.cache/pip/wheels/9a/f0/3a/3f79a6914ff5affaf50cabad60c9f4d565283283c97f0bdccf\n",
            "Successfully built folium\n",
            "Installing collected packages: folium\n",
            "  Attempting uninstall: folium\n",
            "    Found existing installation: folium 0.8.3\n",
            "    Uninstalling folium-0.8.3:\n",
            "      Successfully uninstalled folium-0.8.3\n",
            "Successfully installed folium-0.2.1\n"
          ]
        }
      ],
      "source": [
        "!pip install folium==0.2.1"
      ]
    },
    {
      "cell_type": "code",
      "execution_count": null,
      "metadata": {
        "colab": {
          "base_uri": "https://localhost:8080/"
        },
        "id": "b8aRflwIaB8r",
        "outputId": "c63c2d8d-095d-4a20-ee53-fced8b27760a"
      },
      "outputs": [
        {
          "output_type": "stream",
          "name": "stdout",
          "text": [
            "Collecting pyresparser\n",
            "  Downloading pyresparser-1.0.6-py3-none-any.whl (4.2 MB)\n",
            "\u001b[K     |████████████████████████████████| 4.2 MB 17.8 MB/s \n",
            "\u001b[?25hRequirement already satisfied: pyrsistent>=0.15.2 in /usr/local/lib/python3.7/dist-packages (from pyresparser) (0.18.1)\n",
            "Requirement already satisfied: blis>=0.2.4 in /usr/local/lib/python3.7/dist-packages (from pyresparser) (0.4.1)\n",
            "Requirement already satisfied: jsonschema>=3.0.1 in /usr/local/lib/python3.7/dist-packages (from pyresparser) (4.3.3)\n",
            "Requirement already satisfied: python-dateutil>=2.8.0 in /usr/local/lib/python3.7/dist-packages (from pyresparser) (2.8.2)\n",
            "Requirement already satisfied: numpy>=1.16.4 in /usr/local/lib/python3.7/dist-packages (from pyresparser) (1.21.6)\n",
            "Collecting urllib3>=1.25.3\n",
            "  Downloading urllib3-1.26.9-py2.py3-none-any.whl (138 kB)\n",
            "\u001b[K     |████████████████████████████████| 138 kB 48.8 MB/s \n",
            "\u001b[?25hRequirement already satisfied: pytz>=2019.1 in /usr/local/lib/python3.7/dist-packages (from pyresparser) (2022.1)\n",
            "Requirement already satisfied: thinc>=7.0.4 in /usr/local/lib/python3.7/dist-packages (from pyresparser) (7.4.0)\n",
            "Requirement already satisfied: idna>=2.8 in /usr/local/lib/python3.7/dist-packages (from pyresparser) (2.10)\n",
            "Requirement already satisfied: sortedcontainers>=2.1.0 in /usr/local/lib/python3.7/dist-packages (from pyresparser) (2.4.0)\n",
            "Requirement already satisfied: tqdm>=4.32.2 in /usr/local/lib/python3.7/dist-packages (from pyresparser) (4.64.0)\n",
            "Requirement already satisfied: chardet>=3.0.4 in /usr/local/lib/python3.7/dist-packages (from pyresparser) (3.0.4)\n",
            "Requirement already satisfied: spacy>=2.1.4 in /usr/local/lib/python3.7/dist-packages (from pyresparser) (2.2.4)\n",
            "Collecting pycryptodome>=3.8.2\n",
            "  Downloading pycryptodome-3.14.1-cp35-abi3-manylinux2010_x86_64.whl (2.0 MB)\n",
            "\u001b[K     |████████████████████████████████| 2.0 MB 62.5 MB/s \n",
            "\u001b[?25hRequirement already satisfied: cymem>=2.0.2 in /usr/local/lib/python3.7/dist-packages (from pyresparser) (2.0.6)\n",
            "Collecting docx2txt>=0.7\n",
            "  Downloading docx2txt-0.8.tar.gz (2.8 kB)\n",
            "Requirement already satisfied: preshed>=2.0.1 in /usr/local/lib/python3.7/dist-packages (from pyresparser) (3.0.6)\n",
            "Collecting pdfminer.six>=20181108\n",
            "  Downloading pdfminer.six-20220506-py3-none-any.whl (5.6 MB)\n",
            "\u001b[K     |████████████████████████████████| 5.6 MB 42.4 MB/s \n",
            "\u001b[?25hRequirement already satisfied: six>=1.12.0 in /usr/local/lib/python3.7/dist-packages (from pyresparser) (1.15.0)\n",
            "Requirement already satisfied: attrs>=19.1.0 in /usr/local/lib/python3.7/dist-packages (from pyresparser) (21.4.0)\n",
            "Requirement already satisfied: certifi>=2019.6.16 in /usr/local/lib/python3.7/dist-packages (from pyresparser) (2021.10.8)\n",
            "Requirement already satisfied: requests>=2.22.0 in /usr/local/lib/python3.7/dist-packages (from pyresparser) (2.23.0)\n",
            "Requirement already satisfied: wasabi>=0.2.2 in /usr/local/lib/python3.7/dist-packages (from pyresparser) (0.9.1)\n",
            "Collecting nltk>=3.4.3\n",
            "  Downloading nltk-3.7-py3-none-any.whl (1.5 MB)\n",
            "\u001b[K     |████████████████████████████████| 1.5 MB 52.4 MB/s \n",
            "\u001b[?25hRequirement already satisfied: pandas>=0.24.2 in /usr/local/lib/python3.7/dist-packages (from pyresparser) (1.3.5)\n",
            "Requirement already satisfied: srsly>=0.0.7 in /usr/local/lib/python3.7/dist-packages (from pyresparser) (1.0.5)\n",
            "Requirement already satisfied: importlib-resources>=1.4.0 in /usr/local/lib/python3.7/dist-packages (from jsonschema>=3.0.1->pyresparser) (5.7.1)\n",
            "Requirement already satisfied: typing-extensions in /usr/local/lib/python3.7/dist-packages (from jsonschema>=3.0.1->pyresparser) (4.2.0)\n",
            "Requirement already satisfied: importlib-metadata in /usr/local/lib/python3.7/dist-packages (from jsonschema>=3.0.1->pyresparser) (4.11.3)\n",
            "Requirement already satisfied: zipp>=3.1.0 in /usr/local/lib/python3.7/dist-packages (from importlib-resources>=1.4.0->jsonschema>=3.0.1->pyresparser) (3.8.0)\n",
            "Requirement already satisfied: joblib in /usr/local/lib/python3.7/dist-packages (from nltk>=3.4.3->pyresparser) (1.1.0)\n",
            "Collecting regex>=2021.8.3\n",
            "  Downloading regex-2022.4.24-cp37-cp37m-manylinux_2_17_x86_64.manylinux2014_x86_64.whl (749 kB)\n",
            "\u001b[K     |████████████████████████████████| 749 kB 38.8 MB/s \n",
            "\u001b[?25hRequirement already satisfied: click in /usr/local/lib/python3.7/dist-packages (from nltk>=3.4.3->pyresparser) (7.1.2)\n",
            "Collecting cryptography~=36.0.0\n",
            "  Downloading cryptography-36.0.2-cp36-abi3-manylinux_2_24_x86_64.whl (3.6 MB)\n",
            "\u001b[K     |████████████████████████████████| 3.6 MB 31.0 MB/s \n",
            "\u001b[?25hRequirement already satisfied: charset-normalizer~=2.0.0 in /usr/local/lib/python3.7/dist-packages (from pdfminer.six>=20181108->pyresparser) (2.0.12)\n",
            "Requirement already satisfied: cffi>=1.12 in /usr/local/lib/python3.7/dist-packages (from cryptography~=36.0.0->pdfminer.six>=20181108->pyresparser) (1.15.0)\n",
            "Requirement already satisfied: pycparser in /usr/local/lib/python3.7/dist-packages (from cffi>=1.12->cryptography~=36.0.0->pdfminer.six>=20181108->pyresparser) (2.21)\n",
            "Requirement already satisfied: murmurhash<1.1.0,>=0.28.0 in /usr/local/lib/python3.7/dist-packages (from preshed>=2.0.1->pyresparser) (1.0.7)\n",
            "Collecting urllib3>=1.25.3\n",
            "  Downloading urllib3-1.25.11-py2.py3-none-any.whl (127 kB)\n",
            "\u001b[K     |████████████████████████████████| 127 kB 33.4 MB/s \n",
            "\u001b[?25hRequirement already satisfied: catalogue<1.1.0,>=0.0.7 in /usr/local/lib/python3.7/dist-packages (from spacy>=2.1.4->pyresparser) (1.0.0)\n",
            "Requirement already satisfied: setuptools in /usr/local/lib/python3.7/dist-packages (from spacy>=2.1.4->pyresparser) (57.4.0)\n",
            "Requirement already satisfied: plac<1.2.0,>=0.9.6 in /usr/local/lib/python3.7/dist-packages (from spacy>=2.1.4->pyresparser) (1.1.3)\n",
            "Building wheels for collected packages: docx2txt\n",
            "  Building wheel for docx2txt (setup.py) ... \u001b[?25l\u001b[?25hdone\n",
            "  Created wheel for docx2txt: filename=docx2txt-0.8-py3-none-any.whl size=3980 sha256=0353752314ba166a8316d357f06846fe3fb7d54840c2130e563f9a1f6c875f8e\n",
            "  Stored in directory: /root/.cache/pip/wheels/b7/20/b2/473e3aea9a0c0d3e7b2f7bd81d06d0794fec12752733d1f3a8\n",
            "Successfully built docx2txt\n",
            "Installing collected packages: urllib3, regex, cryptography, pycryptodome, pdfminer.six, nltk, docx2txt, pyresparser\n",
            "  Attempting uninstall: urllib3\n",
            "    Found existing installation: urllib3 1.24.3\n",
            "    Uninstalling urllib3-1.24.3:\n",
            "      Successfully uninstalled urllib3-1.24.3\n",
            "  Attempting uninstall: regex\n",
            "    Found existing installation: regex 2019.12.20\n",
            "    Uninstalling regex-2019.12.20:\n",
            "      Successfully uninstalled regex-2019.12.20\n",
            "  Attempting uninstall: nltk\n",
            "    Found existing installation: nltk 3.2.5\n",
            "    Uninstalling nltk-3.2.5:\n",
            "      Successfully uninstalled nltk-3.2.5\n",
            "Successfully installed cryptography-36.0.2 docx2txt-0.8 nltk-3.7 pdfminer.six-20220506 pycryptodome-3.14.1 pyresparser-1.0.6 regex-2022.4.24 urllib3-1.25.11\n"
          ]
        }
      ],
      "source": [
        "!pip install pyresparser"
      ]
    },
    {
      "cell_type": "code",
      "execution_count": null,
      "metadata": {
        "id": "BlR3jBjzaPUR"
      },
      "outputs": [],
      "source": [
        "import nltk"
      ]
    },
    {
      "cell_type": "code",
      "execution_count": null,
      "metadata": {
        "colab": {
          "base_uri": "https://localhost:8080/"
        },
        "id": "KF5osDYbaWZt",
        "outputId": "8f66f871-5171-4883-cba7-611d598131a7"
      },
      "outputs": [
        {
          "output_type": "stream",
          "name": "stderr",
          "text": [
            "[nltk_data] Downloading package stopwords to /root/nltk_data...\n",
            "[nltk_data]   Unzipping corpora/stopwords.zip.\n"
          ]
        },
        {
          "output_type": "execute_result",
          "data": {
            "text/plain": [
              "True"
            ]
          },
          "metadata": {},
          "execution_count": 9
        }
      ],
      "source": [
        "nltk.download('stopwords')"
      ]
    },
    {
      "cell_type": "code",
      "execution_count": null,
      "metadata": {
        "id": "nuv4S-p1rj56"
      },
      "outputs": [],
      "source": [
        "import numpy as np\n",
        "import pandas as pd\n",
        "import nltk\n",
        "from nltk.corpus import stopwords\n",
        "stopw  = set(stopwords.words('english'))\n",
        "df =pd.read_csv('/content/job_final.csv')"
      ]
    },
    {
      "cell_type": "code",
      "execution_count": null,
      "metadata": {
        "colab": {
          "base_uri": "https://localhost:8080/"
        },
        "id": "tqND3I7Prj57",
        "outputId": "70589eb6-fbf5-4e91-d31d-7401906a98be"
      },
      "outputs": [
        {
          "output_type": "execute_result",
          "data": {
            "text/plain": [
              "0       About company: Smart Food Safe Solutions Inc. ...\n",
              "1       Location Bangalore Experience Years Job Descri...\n",
              "2       Open Systems International, Inc. (OSI) www.osi...\n",
              "3       About Job Software Testing Engineer Job Descri...\n",
              "4       Location: Bangalore Experience: 6Years Skills ...\n",
              "                              ...                        \n",
              "1919    Skills Qualifications: Years experience Strong...\n",
              "1920    Job TH10519_13189 Posted on: 29th May, 2019Job...\n",
              "1921    Job Description spend percent lives buildings....\n",
              "1922    (Job Number: 1905027) Job Title â€“ Web Develo...\n",
              "1923    marry design engineering language ways produce...\n",
              "Name: test, Length: 1924, dtype: object"
            ]
          },
          "metadata": {},
          "execution_count": 15
        }
      ],
      "source": [
        "df['test']=df['Job_Description'].apply(lambda x: ' '.join([word for word in str(x).split() if len(word)>2 and word not in (stopw)]))\n",
        "df['test']"
      ]
    },
    {
      "cell_type": "code",
      "execution_count": null,
      "metadata": {
        "colab": {
          "base_uri": "https://localhost:8080/",
          "height": 832
        },
        "id": "S77Lgm3zrj58",
        "outputId": "3b1eae56-b9e7-429d-a516-f8744ec40804"
      },
      "outputs": [
        {
          "output_type": "execute_result",
          "data": {
            "text/plain": [
              "      Unnamed: 0                                                url  \\\n",
              "0              0  https://www.glassdoor.co.in/partner/jobListing...   \n",
              "1              1  https://www.glassdoor.co.in/partner/jobListing...   \n",
              "2              2  https://www.glassdoor.co.in/partner/jobListing...   \n",
              "3              3  https://www.glassdoor.co.in/partner/jobListing...   \n",
              "4              4  https://www.glassdoor.co.in/partner/jobListing...   \n",
              "...          ...                                                ...   \n",
              "1919        3113  https://www.glassdoor.co.in/partner/jobListing...   \n",
              "1920        3115  https://www.glassdoor.co.in/partner/jobListing...   \n",
              "1921        3120  https://www.glassdoor.co.in/partner/jobListing...   \n",
              "1922        3122  https://www.glassdoor.co.in/partner/jobListing...   \n",
              "1923        3123  https://www.glassdoor.co.in/partner/jobListing...   \n",
              "\n",
              "                                               Position  \\\n",
              "0                           Software Testing Internship   \n",
              "1                             Embedded Software Testing   \n",
              "2     Senior Engineer - Software Testing (Bangalore ...   \n",
              "3                             Software Testing Engineer   \n",
              "4              CIEL/SEL/1888: Software testing Engineer   \n",
              "...                                                 ...   \n",
              "1919                                Front End Developer   \n",
              "1920               Technology Lead-Sharepoint Developer   \n",
              "1921                                Senior UI Developer   \n",
              "1922                                      Web Developer   \n",
              "1923                 Front End Developer - (Javascript)   \n",
              "\n",
              "                            Company      Location  \\\n",
              "0     Smart Food Safe Solutions Inc   – Bengaluru   \n",
              "1                          Mobiveil   – Bengaluru   \n",
              "2        Open Systems International   – Bengaluru   \n",
              "3                   Bloom Solutions   – Bengaluru   \n",
              "4                  CIEL HR Services   – Bengaluru   \n",
              "...                             ...           ...   \n",
              "1919                        Cuemath     Bengaluru   \n",
              "1920                       Infogain     Bengaluru   \n",
              "1921                    Siemens PLC     Bengaluru   \n",
              "1922           Fidelity Investments     Bengaluru   \n",
              "1923                     Softvision     Bengaluru   \n",
              "\n",
              "                                        Job_Description  \\\n",
              "0     About the company:\\nSmart Food Safe Solutions ...   \n",
              "1     Location : Bangalore\\nExperience : 4+ Years\\n\\...   \n",
              "2     Open Systems International, Inc. (OSI) www.osi...   \n",
              "3     About the Job\\n\\nSoftware Testing Engineer\\n\\n...   \n",
              "4     Location: Bangalore\\nExperience: 3 to 6Years\\n...   \n",
              "...                                                 ...   \n",
              "1919  Skills and Qualifications:\\n\\n2+ Years of expe...   \n",
              "1920  Job ID : TH10519_13189\\n\\nPosted on: 29th of M...   \n",
              "1921  Job Description\\nWe spend 90 percent of\\n\\nour...   \n",
              "1922  (Job Number: 1905027)\\n\\nJob Title â€“ Web Dev...   \n",
              "1923  We marry design and engineering language in wa...   \n",
              "\n",
              "                                                   test  \n",
              "0     About company: Smart Food Safe Solutions Inc. ...  \n",
              "1     Location Bangalore Experience Years Job Descri...  \n",
              "2     Open Systems International, Inc. (OSI) www.osi...  \n",
              "3     About Job Software Testing Engineer Job Descri...  \n",
              "4     Location: Bangalore Experience: 6Years Skills ...  \n",
              "...                                                 ...  \n",
              "1919  Skills Qualifications: Years experience Strong...  \n",
              "1920  Job TH10519_13189 Posted on: 29th May, 2019Job...  \n",
              "1921  Job Description spend percent lives buildings....  \n",
              "1922  (Job Number: 1905027) Job Title â€“ Web Develo...  \n",
              "1923  marry design engineering language ways produce...  \n",
              "\n",
              "[1924 rows x 7 columns]"
            ],
            "text/html": [
              "\n",
              "  <div id=\"df-1f6a525a-eb16-4ca3-b5b5-8bf6fa02493a\">\n",
              "    <div class=\"colab-df-container\">\n",
              "      <div>\n",
              "<style scoped>\n",
              "    .dataframe tbody tr th:only-of-type {\n",
              "        vertical-align: middle;\n",
              "    }\n",
              "\n",
              "    .dataframe tbody tr th {\n",
              "        vertical-align: top;\n",
              "    }\n",
              "\n",
              "    .dataframe thead th {\n",
              "        text-align: right;\n",
              "    }\n",
              "</style>\n",
              "<table border=\"1\" class=\"dataframe\">\n",
              "  <thead>\n",
              "    <tr style=\"text-align: right;\">\n",
              "      <th></th>\n",
              "      <th>Unnamed: 0</th>\n",
              "      <th>url</th>\n",
              "      <th>Position</th>\n",
              "      <th>Company</th>\n",
              "      <th>Location</th>\n",
              "      <th>Job_Description</th>\n",
              "      <th>test</th>\n",
              "    </tr>\n",
              "  </thead>\n",
              "  <tbody>\n",
              "    <tr>\n",
              "      <th>0</th>\n",
              "      <td>0</td>\n",
              "      <td>https://www.glassdoor.co.in/partner/jobListing...</td>\n",
              "      <td>Software Testing Internship</td>\n",
              "      <td>Smart Food Safe Solutions Inc</td>\n",
              "      <td>– Bengaluru</td>\n",
              "      <td>About the company:\\nSmart Food Safe Solutions ...</td>\n",
              "      <td>About company: Smart Food Safe Solutions Inc. ...</td>\n",
              "    </tr>\n",
              "    <tr>\n",
              "      <th>1</th>\n",
              "      <td>1</td>\n",
              "      <td>https://www.glassdoor.co.in/partner/jobListing...</td>\n",
              "      <td>Embedded Software Testing</td>\n",
              "      <td>Mobiveil</td>\n",
              "      <td>– Bengaluru</td>\n",
              "      <td>Location : Bangalore\\nExperience : 4+ Years\\n\\...</td>\n",
              "      <td>Location Bangalore Experience Years Job Descri...</td>\n",
              "    </tr>\n",
              "    <tr>\n",
              "      <th>2</th>\n",
              "      <td>2</td>\n",
              "      <td>https://www.glassdoor.co.in/partner/jobListing...</td>\n",
              "      <td>Senior Engineer - Software Testing (Bangalore ...</td>\n",
              "      <td>Open Systems International</td>\n",
              "      <td>– Bengaluru</td>\n",
              "      <td>Open Systems International, Inc. (OSI) www.osi...</td>\n",
              "      <td>Open Systems International, Inc. (OSI) www.osi...</td>\n",
              "    </tr>\n",
              "    <tr>\n",
              "      <th>3</th>\n",
              "      <td>3</td>\n",
              "      <td>https://www.glassdoor.co.in/partner/jobListing...</td>\n",
              "      <td>Software Testing Engineer</td>\n",
              "      <td>Bloom Solutions</td>\n",
              "      <td>– Bengaluru</td>\n",
              "      <td>About the Job\\n\\nSoftware Testing Engineer\\n\\n...</td>\n",
              "      <td>About Job Software Testing Engineer Job Descri...</td>\n",
              "    </tr>\n",
              "    <tr>\n",
              "      <th>4</th>\n",
              "      <td>4</td>\n",
              "      <td>https://www.glassdoor.co.in/partner/jobListing...</td>\n",
              "      <td>CIEL/SEL/1888: Software testing Engineer</td>\n",
              "      <td>CIEL HR Services</td>\n",
              "      <td>– Bengaluru</td>\n",
              "      <td>Location: Bangalore\\nExperience: 3 to 6Years\\n...</td>\n",
              "      <td>Location: Bangalore Experience: 6Years Skills ...</td>\n",
              "    </tr>\n",
              "    <tr>\n",
              "      <th>...</th>\n",
              "      <td>...</td>\n",
              "      <td>...</td>\n",
              "      <td>...</td>\n",
              "      <td>...</td>\n",
              "      <td>...</td>\n",
              "      <td>...</td>\n",
              "      <td>...</td>\n",
              "    </tr>\n",
              "    <tr>\n",
              "      <th>1919</th>\n",
              "      <td>3113</td>\n",
              "      <td>https://www.glassdoor.co.in/partner/jobListing...</td>\n",
              "      <td>Front End Developer</td>\n",
              "      <td>Cuemath</td>\n",
              "      <td>Bengaluru</td>\n",
              "      <td>Skills and Qualifications:\\n\\n2+ Years of expe...</td>\n",
              "      <td>Skills Qualifications: Years experience Strong...</td>\n",
              "    </tr>\n",
              "    <tr>\n",
              "      <th>1920</th>\n",
              "      <td>3115</td>\n",
              "      <td>https://www.glassdoor.co.in/partner/jobListing...</td>\n",
              "      <td>Technology Lead-Sharepoint Developer</td>\n",
              "      <td>Infogain</td>\n",
              "      <td>Bengaluru</td>\n",
              "      <td>Job ID : TH10519_13189\\n\\nPosted on: 29th of M...</td>\n",
              "      <td>Job TH10519_13189 Posted on: 29th May, 2019Job...</td>\n",
              "    </tr>\n",
              "    <tr>\n",
              "      <th>1921</th>\n",
              "      <td>3120</td>\n",
              "      <td>https://www.glassdoor.co.in/partner/jobListing...</td>\n",
              "      <td>Senior UI Developer</td>\n",
              "      <td>Siemens PLC</td>\n",
              "      <td>Bengaluru</td>\n",
              "      <td>Job Description\\nWe spend 90 percent of\\n\\nour...</td>\n",
              "      <td>Job Description spend percent lives buildings....</td>\n",
              "    </tr>\n",
              "    <tr>\n",
              "      <th>1922</th>\n",
              "      <td>3122</td>\n",
              "      <td>https://www.glassdoor.co.in/partner/jobListing...</td>\n",
              "      <td>Web Developer</td>\n",
              "      <td>Fidelity Investments</td>\n",
              "      <td>Bengaluru</td>\n",
              "      <td>(Job Number: 1905027)\\n\\nJob Title â€“ Web Dev...</td>\n",
              "      <td>(Job Number: 1905027) Job Title â€“ Web Develo...</td>\n",
              "    </tr>\n",
              "    <tr>\n",
              "      <th>1923</th>\n",
              "      <td>3123</td>\n",
              "      <td>https://www.glassdoor.co.in/partner/jobListing...</td>\n",
              "      <td>Front End Developer - (Javascript)</td>\n",
              "      <td>Softvision</td>\n",
              "      <td>Bengaluru</td>\n",
              "      <td>We marry design and engineering language in wa...</td>\n",
              "      <td>marry design engineering language ways produce...</td>\n",
              "    </tr>\n",
              "  </tbody>\n",
              "</table>\n",
              "<p>1924 rows × 7 columns</p>\n",
              "</div>\n",
              "      <button class=\"colab-df-convert\" onclick=\"convertToInteractive('df-1f6a525a-eb16-4ca3-b5b5-8bf6fa02493a')\"\n",
              "              title=\"Convert this dataframe to an interactive table.\"\n",
              "              style=\"display:none;\">\n",
              "        \n",
              "  <svg xmlns=\"http://www.w3.org/2000/svg\" height=\"24px\"viewBox=\"0 0 24 24\"\n",
              "       width=\"24px\">\n",
              "    <path d=\"M0 0h24v24H0V0z\" fill=\"none\"/>\n",
              "    <path d=\"M18.56 5.44l.94 2.06.94-2.06 2.06-.94-2.06-.94-.94-2.06-.94 2.06-2.06.94zm-11 1L8.5 8.5l.94-2.06 2.06-.94-2.06-.94L8.5 2.5l-.94 2.06-2.06.94zm10 10l.94 2.06.94-2.06 2.06-.94-2.06-.94-.94-2.06-.94 2.06-2.06.94z\"/><path d=\"M17.41 7.96l-1.37-1.37c-.4-.4-.92-.59-1.43-.59-.52 0-1.04.2-1.43.59L10.3 9.45l-7.72 7.72c-.78.78-.78 2.05 0 2.83L4 21.41c.39.39.9.59 1.41.59.51 0 1.02-.2 1.41-.59l7.78-7.78 2.81-2.81c.8-.78.8-2.07 0-2.86zM5.41 20L4 18.59l7.72-7.72 1.47 1.35L5.41 20z\"/>\n",
              "  </svg>\n",
              "      </button>\n",
              "      \n",
              "  <style>\n",
              "    .colab-df-container {\n",
              "      display:flex;\n",
              "      flex-wrap:wrap;\n",
              "      gap: 12px;\n",
              "    }\n",
              "\n",
              "    .colab-df-convert {\n",
              "      background-color: #E8F0FE;\n",
              "      border: none;\n",
              "      border-radius: 50%;\n",
              "      cursor: pointer;\n",
              "      display: none;\n",
              "      fill: #1967D2;\n",
              "      height: 32px;\n",
              "      padding: 0 0 0 0;\n",
              "      width: 32px;\n",
              "    }\n",
              "\n",
              "    .colab-df-convert:hover {\n",
              "      background-color: #E2EBFA;\n",
              "      box-shadow: 0px 1px 2px rgba(60, 64, 67, 0.3), 0px 1px 3px 1px rgba(60, 64, 67, 0.15);\n",
              "      fill: #174EA6;\n",
              "    }\n",
              "\n",
              "    [theme=dark] .colab-df-convert {\n",
              "      background-color: #3B4455;\n",
              "      fill: #D2E3FC;\n",
              "    }\n",
              "\n",
              "    [theme=dark] .colab-df-convert:hover {\n",
              "      background-color: #434B5C;\n",
              "      box-shadow: 0px 1px 3px 1px rgba(0, 0, 0, 0.15);\n",
              "      filter: drop-shadow(0px 1px 2px rgba(0, 0, 0, 0.3));\n",
              "      fill: #FFFFFF;\n",
              "    }\n",
              "  </style>\n",
              "\n",
              "      <script>\n",
              "        const buttonEl =\n",
              "          document.querySelector('#df-1f6a525a-eb16-4ca3-b5b5-8bf6fa02493a button.colab-df-convert');\n",
              "        buttonEl.style.display =\n",
              "          google.colab.kernel.accessAllowed ? 'block' : 'none';\n",
              "\n",
              "        async function convertToInteractive(key) {\n",
              "          const element = document.querySelector('#df-1f6a525a-eb16-4ca3-b5b5-8bf6fa02493a');\n",
              "          const dataTable =\n",
              "            await google.colab.kernel.invokeFunction('convertToInteractive',\n",
              "                                                     [key], {});\n",
              "          if (!dataTable) return;\n",
              "\n",
              "          const docLinkHtml = 'Like what you see? Visit the ' +\n",
              "            '<a target=\"_blank\" href=https://colab.research.google.com/notebooks/data_table.ipynb>data table notebook</a>'\n",
              "            + ' to learn more about interactive tables.';\n",
              "          element.innerHTML = '';\n",
              "          dataTable['output_type'] = 'display_data';\n",
              "          await google.colab.output.renderOutput(dataTable, element);\n",
              "          const docLink = document.createElement('div');\n",
              "          docLink.innerHTML = docLinkHtml;\n",
              "          element.appendChild(docLink);\n",
              "        }\n",
              "      </script>\n",
              "    </div>\n",
              "  </div>\n",
              "  "
            ]
          },
          "metadata": {},
          "execution_count": 16
        }
      ],
      "source": [
        "df"
      ]
    },
    {
      "cell_type": "code",
      "execution_count": null,
      "metadata": {
        "colab": {
          "base_uri": "https://localhost:8080/"
        },
        "id": "5KKovJiUrj58",
        "outputId": "e89f8855-29f6-472d-d611-bd255be95713"
      },
      "outputs": [
        {
          "name": "stdout",
          "output_type": "stream",
          "text": [
            "specify the path of the resume (format(.txt, .docx and .pdf))==/content/CV.pdf\n"
          ]
        }
      ],
      "source": [
        "##file format should be in .txt , .docx or .pdf only\n",
        "filed=input('specify the path of the resume (format(.txt, .docx and .pdf))==')\n",
        "\n",
        "try:\n",
        "    doc = Document()\n",
        "    with open(filed, 'r') as file:\n",
        "        doc.add_paragraph(file.read())\n",
        "    doc.save(\"text.docx\")\n",
        "    data1 = ResumeParser('text.docx').get_extracted_data()\n",
        "\n",
        "except:\n",
        "    data1 = ResumeParser(filed).get_extracted_data()\n",
        "    \n",
        "resume=data1['skills']"
      ]
    },
    {
      "cell_type": "code",
      "execution_count": null,
      "metadata": {
        "colab": {
          "base_uri": "https://localhost:8080/"
        },
        "id": "ngcOAS9irj59",
        "outputId": "c7619668-e32d-402e-b77b-a05775de1e94"
      },
      "outputs": [
        {
          "output_type": "stream",
          "name": "stdout",
          "text": [
            "['Design', 'Opencv', 'Github', 'C++', 'Api', 'Algorithms', 'Testing', 'Html', 'Sci', 'Python', 'C', 'Training', 'Modeling', 'Pyqt', 'Analysis', 'Keras', 'Word', 'Engineering', 'Programming', 'Statistics', 'Ui', 'Chemicals', 'Database', 'Coding', 'Css', 'Prototype']\n"
          ]
        }
      ],
      "source": [
        "print(resume)"
      ]
    },
    {
      "cell_type": "code",
      "execution_count": null,
      "metadata": {
        "id": "e7qSHEt_rj59"
      },
      "outputs": [],
      "source": [
        "skills=[]\n",
        "skills.append(' '.join(word for word in resume))"
      ]
    },
    {
      "cell_type": "code",
      "execution_count": null,
      "metadata": {
        "colab": {
          "base_uri": "https://localhost:8080/"
        },
        "id": "B2JARXUcrj59",
        "outputId": "6484155b-0f24-4771-bf01-48835f57bfb4"
      },
      "outputs": [
        {
          "output_type": "execute_result",
          "data": {
            "text/plain": [
              "['Design Opencv Github C++ Api Algorithms Testing Html Sci Python C Training Modeling Pyqt Analysis Keras Word Engineering Programming Statistics Ui Chemicals Database Coding Css Prototype']"
            ]
          },
          "metadata": {},
          "execution_count": 22
        }
      ],
      "source": [
        "skills"
      ]
    },
    {
      "cell_type": "code",
      "execution_count": null,
      "metadata": {
        "colab": {
          "base_uri": "https://localhost:8080/"
        },
        "id": "zGvZSt8prj5-",
        "outputId": "1ef31332-7005-459d-96de-bbed663ed4f0"
      },
      "outputs": [
        {
          "output_type": "stream",
          "name": "stdout",
          "text": [
            "Collecting pytest-runner\n",
            "  Downloading pytest_runner-6.0.0-py3-none-any.whl (7.2 kB)\n",
            "Installing collected packages: pytest-runner\n",
            "Successfully installed pytest-runner-6.0.0\n"
          ]
        }
      ],
      "source": [
        "!pip3 install pytest-runner --upgrade"
      ]
    },
    {
      "cell_type": "code",
      "execution_count": 42,
      "metadata": {
        "colab": {
          "base_uri": "https://localhost:8080/"
        },
        "id": "0w3RqgrtjnKH",
        "outputId": "1832f495-c59c-4d27-ba1f-47d28b6268a7"
      },
      "outputs": [
        {
          "output_type": "stream",
          "name": "stdout",
          "text": [
            "Requirement already satisfied: ftfy in /usr/local/lib/python3.7/dist-packages (6.1.1)\n",
            "Requirement already satisfied: wcwidth>=0.2.5 in /usr/local/lib/python3.7/dist-packages (from ftfy) (0.2.5)\n"
          ]
        }
      ],
      "source": [
        "!pip3 install ftfy\n",
        "\n"
      ]
    },
    {
      "cell_type": "code",
      "execution_count": null,
      "metadata": {
        "id": "3rXm7AbTrj5-"
      },
      "outputs": [],
      "source": [
        "import re\n",
        "\n",
        "from ftfy import fix_text\n",
        "\n",
        "def ngrams(string, n=3):\n",
        "    string = fix_text(string) # fix text\n",
        "    string = string.encode(\"ascii\", errors=\"ignore\").decode() #remove non ascii chars\n",
        "    string = string.lower()\n",
        "    chars_to_remove = [\")\",\"(\",\".\",\"|\",\"[\",\"]\",\"{\",\"}\",\"'\"]\n",
        "    rx = '[' + re.escape(''.join(chars_to_remove)) + ']'\n",
        "    string = re.sub(rx, '', string)\n",
        "    string = string.replace('&', 'and')\n",
        "    string = string.replace(',', ' ')\n",
        "    string = string.replace('-', ' ')\n",
        "    string = string.title() # normalise case - capital at start of each word\n",
        "    string = re.sub(' +',' ',string).strip() # get rid of multiple spaces and replace with a single\n",
        "    string = ' '+ string +' ' # pad names for ngrams...\n",
        "    string = re.sub(r'[,-./]|\\sBD',r'', string)\n",
        "    ngrams = zip(*[string[i:] for i in range(n)])\n",
        "    return [''.join(ngram) for ngram in ngrams]\n"
      ]
    },
    {
      "cell_type": "code",
      "execution_count": null,
      "metadata": {
        "id": "sz1BqS42rj5-"
      },
      "outputs": [],
      "source": [
        "from sklearn.feature_extraction.text import TfidfVectorizer\n",
        "import re"
      ]
    },
    {
      "cell_type": "code",
      "execution_count": null,
      "metadata": {
        "id": "QI4pbB4Zrj5-",
        "scrolled": true
      },
      "outputs": [],
      "source": [
        "vectorizer = TfidfVectorizer(min_df=1, analyzer=ngrams, lowercase=False)\n",
        "tfidf = vectorizer.fit_transform(skills)\n",
        "\n"
      ]
    },
    {
      "cell_type": "code",
      "execution_count": null,
      "metadata": {
        "id": "Atir_mbTrj5-"
      },
      "outputs": [],
      "source": [
        "from sklearn.neighbors import NearestNeighbors\n",
        "nbrs = NearestNeighbors(n_neighbors=1, n_jobs=-1).fit(tfidf)\n",
        "test = (df['test'].values.astype('U'))"
      ]
    },
    {
      "cell_type": "code",
      "execution_count": null,
      "metadata": {
        "id": "Dl7BKtAGrj5_"
      },
      "outputs": [],
      "source": [
        "\n",
        "def getNearestN(query):\n",
        "  queryTFIDF_ = vectorizer.transform(query)\n",
        "  distances, indices = nbrs.kneighbors(queryTFIDF_)\n",
        "  return distances, indices\n"
      ]
    },
    {
      "cell_type": "code",
      "execution_count": null,
      "metadata": {
        "id": "nnxz2IACrj5_"
      },
      "outputs": [],
      "source": [
        "distances, indices = getNearestN(test)\n",
        "test = list(test) \n",
        "matches = []\n"
      ]
    },
    {
      "cell_type": "code",
      "execution_count": null,
      "metadata": {
        "id": "y9gyYBlerj5_"
      },
      "outputs": [],
      "source": [
        "for i,j in enumerate(indices):\n",
        "    dist=round(distances[i][0],2)\n",
        "  \n",
        "    temp = [dist]\n",
        "    matches.append(temp)\n",
        "    \n",
        "matches = pd.DataFrame(matches, columns=['Match confidence'])"
      ]
    },
    {
      "cell_type": "code",
      "execution_count": null,
      "metadata": {
        "colab": {
          "base_uri": "https://localhost:8080/",
          "height": 363
        },
        "id": "1gkrJGNwrj5_",
        "outputId": "135c62b9-edd1-49b5-d722-36d2b5720876"
      },
      "outputs": [
        {
          "output_type": "execute_result",
          "data": {
            "text/plain": [
              "   index                                           Position  \\\n",
              "0    387            Senior Software Engineer - Data Science   \n",
              "1    902                                     Data Scientist   \n",
              "2   1255  Data Scientist, Global Data Science Center of ...   \n",
              "3     80  Full-Stack Machine Learning Engineer/Data Scie...   \n",
              "4    612                   Systems Engineer (C++ Developer)   \n",
              "5    684                                     Data Scientist   \n",
              "6    961                       Senior Lead - Data Scientist   \n",
              "7    373               Assistant Manager - Machine Learning   \n",
              "8   1303           Data Scientist (Artificial Intelligence)   \n",
              "9     32                          Machine Learning Engineer   \n",
              "\n",
              "                Company        Location  \n",
              "0   The Straits Network     – Hyderabad  \n",
              "1                Zinier       Bengaluru  \n",
              "2                  Visa       Bengaluru  \n",
              "3                Oracle     – Bengaluru  \n",
              "4               Quadeye       – Gurgaon  \n",
              "5               Atonarp   â€“ Bengaluru  \n",
              "6  Fidelity Investments       Bengaluru  \n",
              "7           citius tech        – Mumbai  \n",
              "8           SNC-Lavalin       Bengaluru  \n",
              "9              Involvio     – Bengaluru  "
            ],
            "text/html": [
              "\n",
              "  <div id=\"df-36af4109-32cf-40af-bce8-aca377f85862\">\n",
              "    <div class=\"colab-df-container\">\n",
              "      <div>\n",
              "<style scoped>\n",
              "    .dataframe tbody tr th:only-of-type {\n",
              "        vertical-align: middle;\n",
              "    }\n",
              "\n",
              "    .dataframe tbody tr th {\n",
              "        vertical-align: top;\n",
              "    }\n",
              "\n",
              "    .dataframe thead th {\n",
              "        text-align: right;\n",
              "    }\n",
              "</style>\n",
              "<table border=\"1\" class=\"dataframe\">\n",
              "  <thead>\n",
              "    <tr style=\"text-align: right;\">\n",
              "      <th></th>\n",
              "      <th>index</th>\n",
              "      <th>Position</th>\n",
              "      <th>Company</th>\n",
              "      <th>Location</th>\n",
              "    </tr>\n",
              "  </thead>\n",
              "  <tbody>\n",
              "    <tr>\n",
              "      <th>0</th>\n",
              "      <td>387</td>\n",
              "      <td>Senior Software Engineer - Data Science</td>\n",
              "      <td>The Straits Network</td>\n",
              "      <td>– Hyderabad</td>\n",
              "    </tr>\n",
              "    <tr>\n",
              "      <th>1</th>\n",
              "      <td>902</td>\n",
              "      <td>Data Scientist</td>\n",
              "      <td>Zinier</td>\n",
              "      <td>Bengaluru</td>\n",
              "    </tr>\n",
              "    <tr>\n",
              "      <th>2</th>\n",
              "      <td>1255</td>\n",
              "      <td>Data Scientist, Global Data Science Center of ...</td>\n",
              "      <td>Visa</td>\n",
              "      <td>Bengaluru</td>\n",
              "    </tr>\n",
              "    <tr>\n",
              "      <th>3</th>\n",
              "      <td>80</td>\n",
              "      <td>Full-Stack Machine Learning Engineer/Data Scie...</td>\n",
              "      <td>Oracle</td>\n",
              "      <td>– Bengaluru</td>\n",
              "    </tr>\n",
              "    <tr>\n",
              "      <th>4</th>\n",
              "      <td>612</td>\n",
              "      <td>Systems Engineer (C++ Developer)</td>\n",
              "      <td>Quadeye</td>\n",
              "      <td>– Gurgaon</td>\n",
              "    </tr>\n",
              "    <tr>\n",
              "      <th>5</th>\n",
              "      <td>684</td>\n",
              "      <td>Data Scientist</td>\n",
              "      <td>Atonarp</td>\n",
              "      <td>â€“ Bengaluru</td>\n",
              "    </tr>\n",
              "    <tr>\n",
              "      <th>6</th>\n",
              "      <td>961</td>\n",
              "      <td>Senior Lead - Data Scientist</td>\n",
              "      <td>Fidelity Investments</td>\n",
              "      <td>Bengaluru</td>\n",
              "    </tr>\n",
              "    <tr>\n",
              "      <th>7</th>\n",
              "      <td>373</td>\n",
              "      <td>Assistant Manager - Machine Learning</td>\n",
              "      <td>citius tech</td>\n",
              "      <td>– Mumbai</td>\n",
              "    </tr>\n",
              "    <tr>\n",
              "      <th>8</th>\n",
              "      <td>1303</td>\n",
              "      <td>Data Scientist (Artificial Intelligence)</td>\n",
              "      <td>SNC-Lavalin</td>\n",
              "      <td>Bengaluru</td>\n",
              "    </tr>\n",
              "    <tr>\n",
              "      <th>9</th>\n",
              "      <td>32</td>\n",
              "      <td>Machine Learning Engineer</td>\n",
              "      <td>Involvio</td>\n",
              "      <td>– Bengaluru</td>\n",
              "    </tr>\n",
              "  </tbody>\n",
              "</table>\n",
              "</div>\n",
              "      <button class=\"colab-df-convert\" onclick=\"convertToInteractive('df-36af4109-32cf-40af-bce8-aca377f85862')\"\n",
              "              title=\"Convert this dataframe to an interactive table.\"\n",
              "              style=\"display:none;\">\n",
              "        \n",
              "  <svg xmlns=\"http://www.w3.org/2000/svg\" height=\"24px\"viewBox=\"0 0 24 24\"\n",
              "       width=\"24px\">\n",
              "    <path d=\"M0 0h24v24H0V0z\" fill=\"none\"/>\n",
              "    <path d=\"M18.56 5.44l.94 2.06.94-2.06 2.06-.94-2.06-.94-.94-2.06-.94 2.06-2.06.94zm-11 1L8.5 8.5l.94-2.06 2.06-.94-2.06-.94L8.5 2.5l-.94 2.06-2.06.94zm10 10l.94 2.06.94-2.06 2.06-.94-2.06-.94-.94-2.06-.94 2.06-2.06.94z\"/><path d=\"M17.41 7.96l-1.37-1.37c-.4-.4-.92-.59-1.43-.59-.52 0-1.04.2-1.43.59L10.3 9.45l-7.72 7.72c-.78.78-.78 2.05 0 2.83L4 21.41c.39.39.9.59 1.41.59.51 0 1.02-.2 1.41-.59l7.78-7.78 2.81-2.81c.8-.78.8-2.07 0-2.86zM5.41 20L4 18.59l7.72-7.72 1.47 1.35L5.41 20z\"/>\n",
              "  </svg>\n",
              "      </button>\n",
              "      \n",
              "  <style>\n",
              "    .colab-df-container {\n",
              "      display:flex;\n",
              "      flex-wrap:wrap;\n",
              "      gap: 12px;\n",
              "    }\n",
              "\n",
              "    .colab-df-convert {\n",
              "      background-color: #E8F0FE;\n",
              "      border: none;\n",
              "      border-radius: 50%;\n",
              "      cursor: pointer;\n",
              "      display: none;\n",
              "      fill: #1967D2;\n",
              "      height: 32px;\n",
              "      padding: 0 0 0 0;\n",
              "      width: 32px;\n",
              "    }\n",
              "\n",
              "    .colab-df-convert:hover {\n",
              "      background-color: #E2EBFA;\n",
              "      box-shadow: 0px 1px 2px rgba(60, 64, 67, 0.3), 0px 1px 3px 1px rgba(60, 64, 67, 0.15);\n",
              "      fill: #174EA6;\n",
              "    }\n",
              "\n",
              "    [theme=dark] .colab-df-convert {\n",
              "      background-color: #3B4455;\n",
              "      fill: #D2E3FC;\n",
              "    }\n",
              "\n",
              "    [theme=dark] .colab-df-convert:hover {\n",
              "      background-color: #434B5C;\n",
              "      box-shadow: 0px 1px 3px 1px rgba(0, 0, 0, 0.15);\n",
              "      filter: drop-shadow(0px 1px 2px rgba(0, 0, 0, 0.3));\n",
              "      fill: #FFFFFF;\n",
              "    }\n",
              "  </style>\n",
              "\n",
              "      <script>\n",
              "        const buttonEl =\n",
              "          document.querySelector('#df-36af4109-32cf-40af-bce8-aca377f85862 button.colab-df-convert');\n",
              "        buttonEl.style.display =\n",
              "          google.colab.kernel.accessAllowed ? 'block' : 'none';\n",
              "\n",
              "        async function convertToInteractive(key) {\n",
              "          const element = document.querySelector('#df-36af4109-32cf-40af-bce8-aca377f85862');\n",
              "          const dataTable =\n",
              "            await google.colab.kernel.invokeFunction('convertToInteractive',\n",
              "                                                     [key], {});\n",
              "          if (!dataTable) return;\n",
              "\n",
              "          const docLinkHtml = 'Like what you see? Visit the ' +\n",
              "            '<a target=\"_blank\" href=https://colab.research.google.com/notebooks/data_table.ipynb>data table notebook</a>'\n",
              "            + ' to learn more about interactive tables.';\n",
              "          element.innerHTML = '';\n",
              "          dataTable['output_type'] = 'display_data';\n",
              "          await google.colab.output.renderOutput(dataTable, element);\n",
              "          const docLink = document.createElement('div');\n",
              "          docLink.innerHTML = docLinkHtml;\n",
              "          element.appendChild(docLink);\n",
              "        }\n",
              "      </script>\n",
              "    </div>\n",
              "  </div>\n",
              "  "
            ]
          },
          "metadata": {},
          "execution_count": 32
        }
      ],
      "source": [
        "df['match']=matches['Match confidence']\n",
        "df1=df.sort_values('match')\n",
        "df1[['Position', 'Company','Location']].head(10).reset_index()"
      ]
    },
    {
      "cell_type": "code",
      "execution_count": null,
      "metadata": {
        "id": "2qgZk_jCrj6A"
      },
      "outputs": [],
      "source": [
        "import pandas as pd\n",
        "import numpy as np\n",
        "import matplotlib.pyplot as plt"
      ]
    },
    {
      "cell_type": "code",
      "execution_count": null,
      "metadata": {
        "colab": {
          "base_uri": "https://localhost:8080/"
        },
        "id": "OfaBgBocrj6A",
        "outputId": "cb9ef978-1929-4a3e-d6a1-1d7f290cbb48"
      },
      "outputs": [
        {
          "output_type": "stream",
          "name": "stdout",
          "text": [
            "   YearsExperience   Salary\n",
            "0              1.1  39343.0\n",
            "1              1.3  46205.0\n",
            "2              1.5  37731.0\n",
            "3              2.0  43525.0\n",
            "4              2.2  39891.0\n"
          ]
        }
      ],
      "source": [
        "df=pd.read_csv('/content/Salary_Data.csv')\n",
        "print(df.head())"
      ]
    },
    {
      "cell_type": "code",
      "execution_count": null,
      "metadata": {
        "colab": {
          "base_uri": "https://localhost:8080/",
          "height": 265
        },
        "id": "XzoFBK29rj6A",
        "outputId": "e7df908c-83bc-46c3-e4eb-f726c790f667"
      },
      "outputs": [
        {
          "output_type": "display_data",
          "data": {
            "text/plain": [
              "<Figure size 432x288 with 1 Axes>"
            ],
            "image/png": "[encoded data removed]"
          },
          "metadata": {
            "needs_background": "light"
          }
        }
      ],
      "source": [
        "plt.scatter(df['YearsExperience'],df['Salary'])\n",
        "plt.show()"
      ]
    },
    {
      "cell_type": "code",
      "execution_count": null,
      "metadata": {
        "id": "77xtIWKNlbZd"
      },
      "outputs": [],
      "source": [
        "from sklearn.linear_model import LinearRegression"
      ]
    },
    {
      "cell_type": "code",
      "execution_count": null,
      "metadata": {
        "colab": {
          "base_uri": "https://localhost:8080/"
        },
        "id": "8XPEwe5QllCk",
        "outputId": "01927e3e-aa02-4cde-93a8-4fbc9ed60d37"
      },
      "outputs": [
        {
          "output_type": "execute_result",
          "data": {
            "text/plain": [
              "LinearRegression()"
            ]
          },
          "metadata": {},
          "execution_count": 39
        }
      ],
      "source": [
        "model= LinearRegression()\n",
        "model.fit(df[['YearsExperience']],df[['Salary']])"
      ]
    },
    {
      "cell_type": "code",
      "execution_count": null,
      "metadata": {
        "colab": {
          "base_uri": "https://localhost:8080/"
        },
        "id": "EZhConw8l2cV",
        "outputId": "23286ba5-42b7-4051-e1eb-079d34da1f4a"
      },
      "outputs": [
        {
          "output_type": "stream",
          "name": "stdout",
          "text": [
            "[[214791.44662777]]\n"
          ]
        },
        {
          "output_type": "stream",
          "name": "stderr",
          "text": [
            "/usr/local/lib/python3.7/dist-packages/sklearn/base.py:451: UserWarning: X does not have valid feature names, but LinearRegression was fitted with feature names\n",
            "  \"X does not have valid feature names, but\"\n"
          ]
        }
      ],
      "source": [
        "print(model.predict([[20]]))"
      ]
    },
    {
      "cell_type": "code",
      "execution_count": null,
      "metadata": {
        "id": "RdI-EQGQnLTF"
      },
      "outputs": [],
      "source": [
        "import docx2txt"
      ]
    },
    {
      "cell_type": "code",
      "execution_count": 45,
      "metadata": {
        "colab": {
          "base_uri": "https://localhost:8080/",
          "height": 108,
          "resources": {
            "http://localhost:8080/nbextensions/google.colab/files.js": {
              "data": "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",
              "headers": [
                [
                  "content-type",
                  "application/javascript"
                ]
              ],
              "ok": true,
              "status": 200,
              "status_text": ""
            }
          }
        },
        "id": "mLEPGqRenQG0",
        "outputId": "80932a92-23d1-4a6b-8f28-47d883569b55"
      },
      "outputs": [
        {
          "output_type": "display_data",
          "data": {
            "text/plain": [
              "<IPython.core.display.HTML object>"
            ],
            "text/html": [
              "\n",
              "     <input type=\"file\" id=\"files-361cc077-d6dd-4c93-8075-1b90461c483c\" name=\"files[]\" multiple disabled\n",
              "        style=\"border:none\" />\n",
              "     <output id=\"result-361cc077-d6dd-4c93-8075-1b90461c483c\">\n",
              "      Upload widget is only available when the cell has been executed in the\n",
              "      current browser session. Please rerun this cell to enable.\n",
              "      </output>\n",
              "      <script src=\"/nbextensions/google.colab/files.js\"></script> "
            ]
          },
          "metadata": {}
        },
        {
          "output_type": "stream",
          "name": "stdout",
          "text": [
            "Saving JOB_DESCRIPTION.docx to JOB_DESCRIPTION (1).docx\n",
            "Saving resume_down.docx to resume_down.docx\n"
          ]
        }
      ],
      "source": [
        "from google.colab import files\n",
        "uploaded = files.upload()"
      ]
    },
    {
      "cell_type": "code",
      "source": [
        "#storing resume\n",
        "resume = docx2txt.process(\"resume_down.docx\")"
      ],
      "metadata": {
        "id": "ZcXhZPb3_qS-"
      },
      "execution_count": 46,
      "outputs": []
    },
    {
      "cell_type": "code",
      "source": [
        "print(resume)"
      ],
      "metadata": {
        "colab": {
          "base_uri": "https://localhost:8080/"
        },
        "id": "D1WhvgRc_2lH",
        "outputId": "892c0668-29e2-4c04-a1a1-b730104ace02"
      },
      "execution_count": 47,
      "outputs": [
        {
          "output_type": "stream",
          "name": "stdout",
          "text": [
            "Kalash Jindal\n",
            "\n",
            "\n",
            "\n",
            "3rd year B Tech, Computer Science and Engineering Feroze Gandhi Institute of Engineering and Technology\n",
            "\n",
            "\n",
            "\n",
            "\n",
            "\n",
            "\n",
            "\n",
            "\n",
            "\n",
            "\n",
            "\n",
            "EDUCATION\n",
            "\n",
            "\n",
            "\n",
            "8.71/10.0 CGPA (Up to 2nd year)\n",
            "\n",
            "\n",
            "\n",
            "Feroze Gandhi Institute Of Engineering and Technology,\n",
            "\n",
            "\n",
            "\n",
            "Raebareli — B​ tech Computer Science and Engineering\n",
            "\n",
            "\n",
            "\n",
            "2017 - Till Date\n",
            "\n",
            "\n",
            "\n",
            "\n",
            "\n",
            "\n",
            "\n",
            "84.4/100 Percentage\n",
            "\n",
            "\n",
            "\n",
            "Agarwal Public Inter College,\n",
            "\n",
            "\n",
            "\n",
            "Sitapur — Intermediate​\n",
            "\n",
            "\n",
            "\n",
            "2016\n",
            "\n",
            "\n",
            "\n",
            "90.1/100 Percentage\n",
            "\n",
            "\n",
            "\n",
            "Agarwal Public Inter College,\n",
            "\n",
            "\n",
            "\n",
            "Sitapur — High​ School\n",
            "\n",
            "\n",
            "\n",
            "2014\n",
            "\n",
            "\n",
            "\n",
            "\n",
            "\n",
            "\n",
            "\n",
            "TRAINING\n",
            "\n",
            "\n",
            "\n",
            "Machine Learning Master Course —​ Coding Blocks\n",
            "\n",
            "\n",
            "\n",
            "https://online.codingblocks.com/app/certificates/CBOL-21111-b988\n",
            "\n",
            "\n",
            "\n",
            "Divide and Conquer, Sorting and Searching, and Randomized Algorithms —​ Coursera\n",
            "\n",
            "\n",
            "\n",
            "https://www.coursera.org/account/accomplishments/certificate/JS7Q AT5HYYKG\n",
            "\n",
            "\n",
            "\n",
            "Introduction to Data Science in Python —​ Coursera\n",
            "\n",
            "\n",
            "\n",
            "https://www.coursera.org/account/accomplishments/verify/ANH8FAC ZZHE8\n",
            "\n",
            "\n",
            "\n",
            "\n",
            "\n",
            "Programming with Python —​ Internshala Trainings\n",
            "\n",
            "\n",
            "\n",
            "Certificate Number : A20916E5-8524-A7B2-091A-EC4CE0C2CA4F\n",
            "\n",
            "\n",
            "\n",
            "\n",
            "298, Thomsanganj, Sitapur Uttar Pradesh, India\n",
            "\n",
            "\n",
            "\n",
            "+91-7839453651\n",
            "\n",
            "\n",
            "\n",
            "jindalkalash298@gmail.com\n",
            "\n",
            "\n",
            "\n",
            "www.linkedin.com/in/kalashj16/\n",
            "\n",
            "\n",
            "\n",
            "\n",
            "\n",
            "\n",
            "\n",
            "\n",
            "\n",
            "\n",
            "\n",
            "\n",
            "\n",
            "SKILLS\n",
            "\n",
            "\n",
            "\n",
            "Python, Statistics, Data Handling, Data Visualization, Linear Algebra, Neural Networks, Transfer Learning, Feature Extraction, Deep Learning, Sci-kit Learn, Keras, OpenCV, SQLite, Html, CSS, GUI using Pyqt module, Git GitHub, C, C++, etc.\n",
            "\n",
            "\n",
            "\n",
            "\n",
            "\n",
            "\n",
            "\n",
            "\n",
            "\n",
            "HOBBIES\n",
            "\n",
            "\n",
            "\n",
            "Table Tennis, Cooking, Reading Books, Web Surfing, etc.\n",
            "\n",
            "\n",
            "\n",
            "PROJECTS\n",
            "\n",
            "\n",
            "\n",
            "Cartpole Playing Game using Reinforcement Learning\n",
            "\n",
            "\n",
            "\n",
            "A Cartpole (prebuild API by OpenAI GYM) is placed in the one-dimensional track having a pole which can move either left or right. The goal is to make the left and the right momentum in such a way that the pole does not fall down from a certain angle. So, I have used the GYM library for importing the Cartpole model and Q- learning principle to design the algorithm for constantly making momentum of the pole to achieve the highest accuracy.\n",
            "\n",
            "\n",
            "\n",
            "Sentimental Analysis using MLP and LSTM on IMDB Dataset\n",
            "\n",
            "\n",
            "\n",
            "In this project, I have worked on the IMDB dataset for checking the sentiment of the reviews given by the reviewers either the review is positive or negative which to lead to giving the movie rating out of 5.. I have also implemented the concept of early stopping, to overcome the overfitting problem.\n",
            "\n",
            "\n",
            "\n",
            "Emoji Prediction using LSTM\n",
            "\n",
            "\n",
            "\n",
            "This project is based on sensing the right emoji from the set of emoji according to the sentiment of the piece of line. While modeling the neural network, I have used LSTM for it with activation function softmax and GloVe ( Global Vector For Word representation), which is an unsupervised learning algorithm for obtaining the vector representation of words. Training is performed on\n",
            "\n",
            "\n",
            "\n",
            "aggregated global word-word co-occurrence statistics from a corpus, and the resulting representations showcase interesting linear substructures of the word vector space. Adam is used for optimizing the model, the loss is categorical cross-entropy.\n",
            "\n",
            "\n",
            "\n",
            "Text Generation using Markov Chain\n",
            "\n",
            "\n",
            "\n",
            "In this project, I have worked on a probabilistic model for text/natural language generation. Using the Markov Chain algorithm for generating the text upto a certain length.\n",
            "\n",
            "\n",
            "\n",
            "Image Classification using SVM\n",
            "\n",
            "\n",
            "\n",
            "In this project, I have worked on support vector machine for extracting the features from the training dataset containing images of dog, cat, horse and humans of around 800. Applying data augmentation for increasing the size of dataset and using SVM for classifying the testing set into 4 classes.\n",
            "\n",
            "\n",
            "\n",
            "Odd one out\n",
            "\n",
            "\n",
            "\n",
            "This project works to find out odd one out, i.e, the least similar element out from any inputted list. Word2Vec model using Gensim(pre-trained model)is used for word embedding(vector representation of the words)\n",
            "\n",
            "\n",
            "\n",
            "Bollywood Word Analogies\n",
            "\n",
            "\n",
            "\n",
            "In this project, I have worked with Word2Vec model for finding the analogies of word, i.e, used to complete the sentence “a is to b and c is to __”. The goal is to find out the correct word, I have measured the cosine similarity of the word vectors of (b-a) and (v-c). Here, v is the list of word vectors present in the vocab of word2vec model.\n",
            "\n",
            "\n",
            "\n",
            "Titanic Survivor Prediction using Decision Trees​—​\n",
            "\n",
            "Titanic Survivor is the very first question on kaggle. In this problem, I have used decision trees for predicting whether a person will survive or not on the testing data.\n",
            "\n",
            "\n",
            "\n",
            "Diabetics Detection\n",
            "\n",
            "\n",
            "\n",
            "This project is modeled using the KNN and the dataset used is of people of any country having high diabetics patients and the goal is to find out that the patient is diabetic or not on testing data, I have used binary classifier for classifying the possibility.\n",
            "\n",
            "\n",
            "\n",
            "Fantasy Cricket Game\n",
            "\n",
            "\n",
            "\n",
            "This game is a prototype of dream 11. I have work on this project while completing my python training. In this project, I have used python, SQLite for database management and qt designer for UI designing.\n",
            "\n",
            "\n",
            "\n",
            "Air Quality Prediction\n",
            "\n",
            "\n",
            "\n",
            "Dataset used in this project is of the different places with having 5 features. So, I have used Linear regression with multiple features for finding out the air quality of testing data and at last, I achieve an accuracy of 98%.\n",
            "\n",
            "\n",
            "\n",
            "Hard Work Pays Off\n",
            "\n",
            "\n",
            "\n",
            "This project is based on the data of the students and how they performed in the evaluation exam. And I have implemented Linear Regression for finding out the minimum time required for each student to do coding daily. R2 Score is used for calculating the accuracy and I got 99% accuracy.\n",
            "\n",
            "\n",
            "\n",
            "Separating Chemicals\n",
            "\n",
            "\n",
            "\n",
            "In this project, I have worked on logistic regression to create a model to solve this challenge. Dataset is labeled with 0 and 1 with each having 3 features and moto is to label the testing data. I attain 96% accuracy.\n"
          ]
        }
      ]
    },
    {
      "cell_type": "code",
      "source": [
        "#Stor the job description\n",
        "job_desc = docx2txt.process(\"JOB_DESCRIPTION.docx\")"
      ],
      "metadata": {
        "id": "uNtjHYeJAcWw"
      },
      "execution_count": 48,
      "outputs": []
    },
    {
      "cell_type": "code",
      "source": [
        "print(job_desc)"
      ],
      "metadata": {
        "colab": {
          "base_uri": "https://localhost:8080/"
        },
        "id": "Xd_KixCNAxOt",
        "outputId": "ad8b1806-1e27-48cc-ca48-6887eb928e39"
      },
      "execution_count": 49,
      "outputs": [
        {
          "output_type": "stream",
          "name": "stdout",
          "text": [
            "Program Manager, Reporting and Data Visualization, REWS Governance\n",
            "\n",
            "Google\n",
            "\n",
            "In-office:\n",
            "\n",
            "New York, NY, USA\n",
            "\n",
            "Cambridge, MA, USA\n",
            "\n",
            "Los Angeles, CA, USA\n",
            "\n",
            "Apply\n",
            "\n",
            "This role may also be located in our Playa Vista, CA campus.\n",
            "Note: By applying to this position you will have an opportunity to share your preferred working location from the following: New York, NY, USA; Cambridge, MA, USA; Los Angeles, CA, USA.\n",
            "\n",
            "Qualifications\n",
            "\n",
            "Minimum qualifications:\n",
            "\n",
            "Bachelor's degree in Construction, Data Analytics, Business Administration, Finance related field, or equivalent practical experience.\n",
            "\n",
            "5 years of experience developing front-end reporting with business intelligence (BI) suites (e.g., Data Studio, Looker, Tableau etc.).\n",
            "\n",
            "3 years of experience working in a Construction Capital Program, involved in monthly reporting cycles and/or project performance reporting.\n",
            "\n",
            "Preferred qualifications:\n",
            "\n",
            "Experience working in large-scale business change programs.\n",
            "\n",
            "Experience in quantitative analytics roles, SQL databases, and/or data modeling.\n",
            "\n",
            "Experience in management consulting or other business strategy roles.\n",
            "\n",
            "Experience working in agile/sprint based methodology.\n",
            "\n",
            "Ability to take initiative, grow ambiguity, and demonstrate problem-solving leadership and tenacity with limited oversight.\n",
            "\n",
            "About the job\n",
            "\n",
            "As a Program Manager, you’ll be responsible for the project management, reporting, and data visualization needs of global programs led by REWS and Global Security and Resilience Services (GSRS) Governance. You’ll regularly interface with a wide variety of stakeholders, including REWS Leadership, Project Delivery Teams, Finance, Accounting, Compliance, and Global Program teams. You’ll partner with these stakeholders to develop business requirements for dashboards, reports, and data analyses to report and predict the performance of the REWS capital project construction portfolio.\n",
            "\n",
            "In this role, you’ll own the reporting inventory and be responsible for managing data quality assurance efforts. You’ll be a player in technology and system related governance programs. You’ll also manage the Business Intelligence and Reporting teams that develop and maintain our reporting assets. Reporting is a critical element of all our work so you’ll to manage schedules, program interdependencies, risks, and resources related to the effort.\n",
            "\n",
            "The Real Estate and Workplace Services (REWS) team creates inspiring spaces and innovative services that bring Google’s culture and values to life. We build and maintain all aspects of what keeps our Googley workspaces operating seamlessly across multiple cities and regions globally. We also manage the industry-leading services that help make Google a great place to work -- from how we design healthy and collaborative workspaces, create energizing food experiences, provide convenient transportation and fitness options, to delivering inclusive environments where Google and our employees can thrive.\n",
            "\n",
            "Responsibilities\n",
            "\n",
            "Lead a global multi-year transformation program.\n",
            "\n",
            "Lead the end-to-end development and deployment of centralized reports, dashboards, models, and tools to analyze, report, and present REWS Capital Project (Construction) related data.\n",
            "\n",
            "Partner with stakeholders at all levels and across all regions to develop requirements, design and manage deployment of tools, dashboards, reports, and data analyses.\n",
            "\n",
            "Manage vendor teams responsible for the development and maintenance of dashboards, reports, and data pipelines using agile/sprint methodology.\n",
            "\n",
            "Leverage your program management skills to manage project schedules, identify and mitigate risks, facilitate escalations to executive management, and publish regular project status reports.\n"
          ]
        }
      ]
    },
    {
      "cell_type": "code",
      "source": [
        "text =[resume, job_desc]"
      ],
      "metadata": {
        "id": "KQI7rF4qAzaN"
      },
      "execution_count": 50,
      "outputs": []
    },
    {
      "cell_type": "code",
      "source": [
        "from sklearn.feature_extraction.text import CountVectorizer"
      ],
      "metadata": {
        "id": "5Jf_TSoYA5ge"
      },
      "execution_count": 51,
      "outputs": []
    },
    {
      "cell_type": "code",
      "source": [
        "cv = CountVectorizer()\n",
        "count_matrix = cv.fit_transform(text)"
      ],
      "metadata": {
        "id": "J69o_SgrBJC3"
      },
      "execution_count": 52,
      "outputs": []
    },
    {
      "cell_type": "code",
      "source": [
        "from sklearn.metrics.pairwise import cosine_similarity\n",
        "\n",
        "#Print tthe similairty\n",
        "print(\"\\n Similarity Scores:\")\n",
        "print(cosine_similarity(count_matrix))"
      ],
      "metadata": {
        "colab": {
          "base_uri": "https://localhost:8080/"
        },
        "id": "vb6p91eEBUWF",
        "outputId": "2d8471c4-f1aa-4735-8602-b9559e4219f1"
      },
      "execution_count": 53,
      "outputs": [
        {
          "output_type": "stream",
          "name": "stdout",
          "text": [
            "\n",
            " Similarity Scores:\n",
            "[[1.         0.52681384]\n",
            " [0.52681384 1.        ]]\n"
          ]
        }
      ]
    },
    {
      "cell_type": "code",
      "source": [
        "matchPercentage = cosine_similarity(count_matrix)[0][1] * 100\n",
        "matchPercentage = round(matchPercentage, 2)\n",
        "print(\"Your Resume matches about\" +\" \"+str(matchPercentage) + \"% of the job description.\")"
      ],
      "metadata": {
        "colab": {
          "base_uri": "https://localhost:8080/"
        },
        "id": "L6JedpYSByBw",
        "outputId": "46f3dc6f-b667-448b-dd2c-8ea668d7cfa9"
      },
      "execution_count": 57,
      "outputs": [
        {
          "output_type": "stream",
          "name": "stdout",
          "text": [
            "Your Resume matches about 52.68% of the job description.\n"
          ]
        }
      ]
    }
  ],
  "metadata": {
    "colab": {
      "name": "MP4_Resume_analyzer.ipynb",
      "provenance": [],
      "include_colab_link": true
    },
    "kernelspec": {
      "display_name": "Python 3",
      "language": "python",
      "name": "python3"
    },
    "language_info": {
      "codemirror_mode": {
        "name": "ipython",
        "version": 3
      },
      "file_extension": ".py",
      "mimetype": "text/x-python",
      "name": "python",
      "nbconvert_exporter": "python",
      "pygments_lexer": "ipython3",
      "version": "3.8.8"
    }
  },
  "nbformat": 4,
  "nbformat_minor": 0
}